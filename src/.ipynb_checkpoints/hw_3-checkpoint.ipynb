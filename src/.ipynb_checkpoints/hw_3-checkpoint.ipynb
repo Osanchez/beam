{
 "cells": [
  {
   "cell_type": "markdown",
   "metadata": {},
   "source": [
    "## Homework 3: Decoding Algorithms\n",
    "\n",
    "#### This is due at 11.55 pm on Friday, December 7. Please see detailed submission instructions below.  100 points total.\n",
    "\n",
    "##### How to do this problem set:\n",
    "\n",
    "- What version of Python should I use? 3.6\n",
    "\n",
    "- Most of these questions require writing Python code and computing results, and the rest of them have textual answers. To generate the answers, you will have to fill out two supporting files, `vit_starter.py` and `s2s_starter.py`.\n",
    "\n",
    "- Write all the answers in this ipython notebook. Once you are finished (1) Generate a PDF via (File -> Download As -> PDF) and upload to Gradescope and (2) turn in `vit_starter.py`, `s2s_starter.py`,  and `hw_3.ipynb` on Moodle. If you do the extra credit, repeat these two steps but upload them for the \"HW3 Extra Credit\" assignment.\n",
    "  \n",
    "- **Important:** Check your PDF before you turn it in to gradescope to make sure it exported correctly. If ipython notebook gets confused about your syntax it will sometimes terminate the PDF creation routine early. You are responsible for checking for these errors. If your whole PDF does not print, try running `$jupyter nbconvert --to pdf hw_1.ipynb` to identify and fix any syntax errors that might be causing problems.\n",
    "\n",
    "- **Important:** When creating your final version of the PDF to hand in, please do a fresh restart and execute every cell in order. Then you'll be sure it's actually right. One convenient way to do this is by clicking `Cell -> Run All` in the notebook menu.\n",
    " "
   ]
  },
  {
   "cell_type": "markdown",
   "metadata": {},
   "source": [
    "##### Academic honesty \n",
    "\n",
    "- We will audit the Moodle code from a few dozen students, chosen at random. The audits will check that the code you wrote and turned on Moodle generates the answers you turn in on your Gradescope PDF. If you turn in correct answers on your PDF without code that actually generates those answers, we will consider this a potential case of cheating. See the course page for honesty policies.\n",
    "\n",
    "- We will also run automatic checks of code on Moodle for plagiarism. Copying code from others is considered a serious case of cheating."
   ]
  },
  {
   "cell_type": "markdown",
   "metadata": {},
   "source": [
    "## 1. Viterbi (log-additive form) (40 points)"
   ]
  },
  {
   "cell_type": "markdown",
   "metadata": {},
   "source": [
    "<img src=\"1.png\">\n",
    "\n",
    "\n",
    "\n",
    "\n",
    "\n",
    "One HMM chain is shown on the left. In the graph to the right, let $A(y_1,y_2)$ be the log of the transition probability when the model transition from $y_1$ to $y_2$. Similarly, let \n",
    "$B_t$ be the log of the emission probability when the model emits $w_t$ at $y_t$.\n",
    "\n",
    "\n",
    "Let $\\vec{y} = (y_1,y_2,...,y_T)$ be a proposed tag sequence for a $T$ length sentence.\n",
    "The total ***goodness function*** for a solution $\\vec{y}$ is\n",
    "\n",
    "$$ G(\\vec{y}) = \\sum_{t=1}^{T} B_t(y_t)  + \\sum_{t=2}^{T} A(y_{t-1},y_t) $$\n"
   ]
  },
  {
   "cell_type": "markdown",
   "metadata": {},
   "source": [
    "**Question 1.1 (40 points)**\n",
    "\n",
    "Implement additive log-space Viterbi by completing the **viterbi()** function. It takes in tables that represent the $A$ and $B$ functions as input.  We give you an implementation of $G()$ in **vit_starter**, you can check to make sure you understand the data structures, and also the exhaustive decoding algorithm too.  Feel free to add debugging print statements as needed.  The main code runs the exercise example by default.\n",
    "\n",
    "When debugging, you should make new A and B examples that are very simple. This will test different code paths.  Also you can try the **randomized\\_test()** from the starter code.\n",
    "\n",
    "Look out for negative indexes as a bug.  In python, if you use an index that's too high to be in the list, it throws an error.  But it will silently accept a negative index ... it interprets that as indexing from the right.\n"
   ]
  },
  {
   "cell_type": "code",
   "execution_count": null,
   "metadata": {
    "scrolled": true
   },
   "outputs": [],
   "source": [
    "%load_ext autoreload\n",
    "%autoreload 2\n",
    "\n",
    "# Implement the viterbi() function in vit_starter.py and then run this cell to show your output\n",
    "\n",
    "from vit_starter import *\n",
    "\n",
    "\n",
    "if __name__=='__main__':\n",
    "    A = {(0,0):2, (0,1):1, (1,0):0, (1,1):5}\n",
    "    Bs= [ [0,1], [0,1], [25,0] ]\n",
    "    # that's equivalent to: [ {0:0,1:1}, {0:0,1:1}, {0:25,1:0} ]\n",
    "\n",
    "    y = exhaustive(A, Bs, set([0,1]))\n",
    "    print(\"Exhaustive decoding:\", y, \"score:\", goodness_score(y, A, Bs))\n",
    "    y = viterbi(A, Bs, set([0,1]))\n",
    "    print(\"Viterbi    decoding:\", y, \"score:\", goodness_score(y, A, Bs))\n",
    "    "
   ]
  },
  {
   "cell_type": "markdown",
   "metadata": {},
   "source": [
    "**Copy and paste the viterbi function that you implemented in `vit_starter.py`.**"
   ]
  },
  {
   "cell_type": "code",
   "execution_count": null,
   "metadata": {},
   "outputs": [],
   "source": []
  },
  {
   "cell_type": "markdown",
   "metadata": {},
   "source": [
    "## 2. Decoding in seq2seq models (60 points)\n",
    "\n",
    "In this part of the homework, you will implement both a greedy search and a beam search for a simple sequence-to-sequence model. We provide the code to build and train the network, so all you have to do is write the decoding algorithms. Please make sure PyTorch and numpy are installed properly before working on this section. \n",
    "\n",
    "Our sequence-to-sequence model consists of a vanilla RNN encoder and decoder. Given a sequence of characters (e.g., **aabbccdd**), the network is trained to produce the same sequence in reverse order (**ddccbbaa**). While this task is obviously not like machine translation or text summarization, the model and algorithms are the same, so we will use it as a proxy for more complex real-world tasks that require GPUs and huge datasets to train. \n",
    "\n",
    "To begin, run the below massive cell to (1) set up the data and vocab, (2) build the network, and (3) train the network. We will train for 50 epochs, which should hopefully take no more than a few minutes on your machine. \n"
   ]
  },
  {
   "cell_type": "code",
   "execution_count": null,
   "metadata": {},
   "outputs": [],
   "source": [
    "import torch, random\n",
    "import numpy as np\n",
    "from s2s_starter import S2S\n",
    "\n",
    "# set random seeds\n",
    "torch.manual_seed(1111)\n",
    "random.seed(1111)\n",
    "np.random.seed(1111)\n",
    "\n",
    "# create a dataset of 500 examples using a small vocabulary \n",
    "# we will try training on sequences of length 10 and testing on sequences of length 15\n",
    "# this setup tests whether the model has actually learned an algorithm to reverse its input \n",
    "vocab = {'a': 0, 'b': 1, 'c':2, 'd':3, 'e':4}\n",
    "train_seq_len = 10\n",
    "test_seq_len = 15\n",
    "num_train_examples = 500\n",
    "num_test_examples = 100\n",
    "\n",
    "train_inputs = torch.LongTensor(num_train_examples, train_seq_len).random_(0, len(vocab)) # random sequences\n",
    "inv_idx = torch.arange(train_seq_len-1, -1, -1).long()\n",
    "train_outputs = train_inputs[:, inv_idx] # outputs are just the reverse of the input\n",
    "\n",
    "test_inputs = torch.LongTensor(num_test_examples, test_seq_len).random_(0, len(vocab))\n",
    "inv_idx = torch.arange(test_seq_len-1, -1, -1).long()\n",
    "test_outputs = test_inputs[:, inv_idx]\n",
    "\n",
    "    \n",
    "# build the network\n",
    "net = S2S(20, 50, len(vocab))\n",
    "\n",
    "# set some parameters for training the network\n",
    "batch_size = 16\n",
    "idx_to_w = dict((v,k) for (k,v) in vocab.items())\n",
    "loss_fn = torch.nn.NLLLoss()\n",
    "optimizer = torch.optim.Adam(net.parameters(), lr=0.001)\n",
    "num_epochs = 50\n",
    "\n",
    "# okay, let's train the network!\n",
    "for ep in range(num_epochs):\n",
    "    ep_loss = 0.\n",
    "    \n",
    "    for start in range(0, len(train_inputs), batch_size):\n",
    "        in_batch = train_inputs[start:start+batch_size]\n",
    "        out_batch = train_outputs[start:start+batch_size]\n",
    "\n",
    "        preds = net(in_batch, out_batch)        \n",
    "        batch_loss = loss_fn(preds, out_batch.view(-1))\n",
    "        ep_loss += batch_loss\n",
    "\n",
    "        # compute gradients\n",
    "        optimizer.zero_grad() # reset the gradients from the last batch\n",
    "        batch_loss.backward() # does backprop!!!\n",
    "        optimizer.step() # updates parameters using gradients\n",
    "\n",
    "    if ep % 10 == 0 or ep == num_epochs - 1:\n",
    "        print('epoch %d, loss %f' % (ep, ep_loss))\n"
   ]
  },
  {
   "cell_type": "markdown",
   "metadata": {},
   "source": [
    "You should see the loss go down to about 10. Now, let's try decoding some training sequences. In s2s.py, we have provided a greedy decoding algorithm (greedy_search) which just chooses the argmax character prediction at every time step. Run the below code to execute greedy search on the ***training*** data. You'll see the model's predictions for the first three training sentences, along with the accuracy on the entire training dataset. Accuracy here is defined as the percentage of examples for which we are able to exactly generate the reverse of the input."
   ]
  },
  {
   "cell_type": "code",
   "execution_count": null,
   "metadata": {},
   "outputs": [],
   "source": [
    "net.eval()\n",
    "probs = []\n",
    "corr = 0.\n",
    "total = 0.\n",
    "\n",
    "for seq_idx, seq in enumerate(train_inputs):\n",
    "\n",
    "    prob, outseq = net.greedy_search(seq.expand(1, train_seq_len))\n",
    "    inseq = ' '.join([idx_to_w[c] for c in seq.numpy()])\n",
    "    outseq = ' '.join([idx_to_w[int(c)] for c in outseq])\n",
    "    if seq_idx < 3:\n",
    "        print('inp: %s' % inseq)\n",
    "        print('out: %s, neg log prob: %f\\n' % (outseq, prob))\n",
    "    if inseq == outseq[::-1]:\n",
    "        corr += 1\n",
    "    total += 1\n",
    "    \n",
    "print('training accuracy: %d / %d, acc=%0.1f' % (corr, total, 100 * corr / total))"
   ]
  },
  {
   "cell_type": "markdown",
   "metadata": {},
   "source": [
    "### 2.1: Implement beam search (40 points)\n",
    "These should look pretty decent! Most of the outputs may even be exact reverses of the input. With that said, we can do better. Implement the beam_search in s2s_starter.py and run the following cell. To debug, set the beam_size argument in the cell to 1 and make sure the output sequences and probabilities are identical to the ones produced by greedy search. If you have correctly implemented the function, the final line of output will print a 'success' message. You should also expect to see a higher accuracy than the greedy search! This cell may take a minute or so to run."
   ]
  },
  {
   "cell_type": "code",
   "execution_count": null,
   "metadata": {},
   "outputs": [],
   "source": [
    "passed_check = True\n",
    "corr = 0.\n",
    "total = 0.\n",
    "\n",
    "for seq_idx, seq in enumerate(train_inputs):\n",
    "    beams = net.beam_search(seq.expand(1, train_seq_len), beam_size=3)\n",
    "    inseq = ' '.join([idx_to_w[c] for c in seq.numpy()])\n",
    "    for beam_idx, beam in enumerate(beams):\n",
    "        prob = beam[0]\n",
    "        outseq = beam[1]\n",
    "        \n",
    "        if isinstance(prob, torch.Tensor):\n",
    "            prob = prob.detach().numpy()\n",
    "        outseq = ' '.join([idx_to_w[int(c)] for c in outseq])\n",
    "        if seq_idx < 3:\n",
    "            print('input: %s' % inseq)\n",
    "            print('beam%d: %s, neg log prob: %f' % (beam_idx, outseq, prob))\n",
    "            \n",
    "        if beam_idx == 0:\n",
    "            if inseq == outseq[::-1]:\n",
    "                corr += 1\n",
    "            total += 1\n",
    "\n",
    "    if seq_idx < 3:\n",
    "        print('')\n",
    "    if(net.beam_check(seq.expand(1, train_seq_len)) == False):\n",
    "        passed_check = False\n",
    "        \n",
    "print('training accuracy: %d / %d, acc=%0.1f' % (corr, total, 100 * corr / total))\n",
    "if passed_check:\n",
    "    print(\"success! you've successfully implemented beam search!\")\n",
    "else:\n",
    "    print(\"your beam search has bugs, go back and check your code carefully!\")"
   ]
  },
  {
   "cell_type": "markdown",
   "metadata": {},
   "source": [
    "### 2.2 (10 pts)\n",
    "What is the maximum beam size we can use? Why? write answer here"
   ]
  },
  {
   "cell_type": "markdown",
   "metadata": {},
   "source": [
    "### 2.3 (10 pts)\n",
    "Is beam search always guaranteed to find an output whose probability is greater than or equal to the output of greedy search? Why? ***write answer here***"
   ]
  },
  {
   "cell_type": "markdown",
   "metadata": {},
   "source": [
    "### Extra credit (up to 30 pts)\n",
    "Before starting the extra credit, please export your current notebook to a PDF and upload it to Gradescope, as you may want to modify previous parts of this homework to solve the extra credit. Once you finish the extra credit, export this notebook again to a new PDF and upload it under the separate \"HW3 extra credit\" assignment on Gradescope. \n",
    "\n",
    "You have a simple goal: achieve over 30% accuracy on the ***test*** set. If you do not reach this number, you will get no points on this extra credit. The below cell runs beam search over the test data and computes the accuracy, which will likely be 0%. Feel free to do anything you like (generate more training data, train for more epochs, use bigger beams, use more powerful models, implement an attention mechanism, etc.) as long as you ***(1) do not hard-code the reverse algorithm anywhere (e.g., return inputs[::-1]) and (2) do not train on input sequences of longer than length 10***. If you succeed, your model will have generalized the reverse algorithm from length <10 to length 15! One thing that might be helpful to do first is to try overfitting your training data (i.e., make its accuracy 100%). Finally ***write what you did to achieve at least 30% accuracy here, or you will receive no points***."
   ]
  },
  {
   "cell_type": "code",
   "execution_count": null,
   "metadata": {},
   "outputs": [],
   "source": [
    "corr = 0.\n",
    "total = 0.\n",
    "\n",
    "for seq in test_inputs:\n",
    "    beams = net.beam_search(seq.expand(1, test_seq_len), beam_size=3)\n",
    "    \n",
    "    inseq = ' '.join([idx_to_w[c] for c in seq.numpy()])\n",
    "    prob = beams[0][0]\n",
    "    outseq = beams[0][1]\n",
    "    prob = prob.detach().numpy()\n",
    "    outseq = ' '.join([idx_to_w[int(c)] for c in outseq])\n",
    "    if inseq == outseq[::-1]:\n",
    "        corr += 1\n",
    "    total += 1\n",
    "\n",
    "print('%d / %d, test accuracy is %0.1f' % (corr, total, 100 * corr / total))"
   ]
  },
  {
   "cell_type": "code",
   "execution_count": null,
   "metadata": {},
   "outputs": [],
   "source": []
  }
 ],
 "metadata": {
  "anaconda-cloud": {},
  "kernelspec": {
   "display_name": "Python 3",
   "language": "python",
   "name": "python3"
  },
  "language_info": {
   "codemirror_mode": {
    "name": "ipython",
    "version": 3
   },
   "file_extension": ".py",
   "mimetype": "text/x-python",
   "name": "python",
   "nbconvert_exporter": "python",
   "pygments_lexer": "ipython3",
   "version": "3.6.7"
  }
 },
 "nbformat": 4,
 "nbformat_minor": 1
}
